{
 "cells": [
  {
   "cell_type": "markdown",
   "metadata": {},
   "source": [
    "Problem 1 - 4: Stream Measurements"
   ]
  },
  {
   "cell_type": "code",
   "execution_count": 1,
   "metadata": {},
   "outputs": [],
   "source": [
    "import pandas as pd\n",
    "import numpy as np\n",
    "import matplotlib.pyplot as plt\n",
    "import seaborn as sns\n",
    "\n",
    "df = pd.read_excel(\"lab3_excel.xlsx\")"
   ]
  },
  {
   "cell_type": "code",
   "execution_count": 4,
   "metadata": {},
   "outputs": [],
   "source": [
    "new_df = pd.DataFrame()\n",
    "\n",
    "new_df['Xm'] = (np.array(df['x (m)'].iloc[1:])+np.array(df['x (m)'].iloc[:-1]))/2\n",
    "new_df['A'] = np.array(new_df['Xm'])*np.array(df['d (m)'].iloc[1:])\n",
    "new_df['V'] = (np.array(df['v (m/s)'].iloc[1:])+np.array(df['v (m/s)'].iloc[:-1]))/2\n",
    "new_df['Q'] = new_df['V']*new_df['A']"
   ]
  },
  {
   "cell_type": "code",
   "execution_count": 6,
   "metadata": {},
   "outputs": [
    {
     "data": {
      "text/html": [
       "<div>\n",
       "<style scoped>\n",
       "    .dataframe tbody tr th:only-of-type {\n",
       "        vertical-align: middle;\n",
       "    }\n",
       "\n",
       "    .dataframe tbody tr th {\n",
       "        vertical-align: top;\n",
       "    }\n",
       "\n",
       "    .dataframe thead th {\n",
       "        text-align: right;\n",
       "    }\n",
       "</style>\n",
       "<table border=\"1\" class=\"dataframe\">\n",
       "  <thead>\n",
       "    <tr style=\"text-align: right;\">\n",
       "      <th></th>\n",
       "      <th>Xm</th>\n",
       "      <th>A</th>\n",
       "      <th>V</th>\n",
       "      <th>Q</th>\n",
       "    </tr>\n",
       "  </thead>\n",
       "  <tbody>\n",
       "    <tr>\n",
       "      <th>0</th>\n",
       "      <td>0.2</td>\n",
       "      <td>0.042</td>\n",
       "      <td>0.210</td>\n",
       "      <td>0.00882</td>\n",
       "    </tr>\n",
       "    <tr>\n",
       "      <th>1</th>\n",
       "      <td>0.6</td>\n",
       "      <td>0.240</td>\n",
       "      <td>0.430</td>\n",
       "      <td>0.10320</td>\n",
       "    </tr>\n",
       "    <tr>\n",
       "      <th>2</th>\n",
       "      <td>1.0</td>\n",
       "      <td>0.660</td>\n",
       "      <td>0.550</td>\n",
       "      <td>0.36300</td>\n",
       "    </tr>\n",
       "    <tr>\n",
       "      <th>3</th>\n",
       "      <td>1.4</td>\n",
       "      <td>0.980</td>\n",
       "      <td>0.635</td>\n",
       "      <td>0.62230</td>\n",
       "    </tr>\n",
       "    <tr>\n",
       "      <th>4</th>\n",
       "      <td>1.8</td>\n",
       "      <td>1.188</td>\n",
       "      <td>0.615</td>\n",
       "      <td>0.73062</td>\n",
       "    </tr>\n",
       "    <tr>\n",
       "      <th>5</th>\n",
       "      <td>2.2</td>\n",
       "      <td>1.430</td>\n",
       "      <td>0.590</td>\n",
       "      <td>0.84370</td>\n",
       "    </tr>\n",
       "    <tr>\n",
       "      <th>6</th>\n",
       "      <td>2.6</td>\n",
       "      <td>1.612</td>\n",
       "      <td>0.725</td>\n",
       "      <td>1.16870</td>\n",
       "    </tr>\n",
       "    <tr>\n",
       "      <th>7</th>\n",
       "      <td>3.0</td>\n",
       "      <td>1.650</td>\n",
       "      <td>0.865</td>\n",
       "      <td>1.42725</td>\n",
       "    </tr>\n",
       "    <tr>\n",
       "      <th>8</th>\n",
       "      <td>3.4</td>\n",
       "      <td>1.802</td>\n",
       "      <td>0.770</td>\n",
       "      <td>1.38754</td>\n",
       "    </tr>\n",
       "    <tr>\n",
       "      <th>9</th>\n",
       "      <td>3.8</td>\n",
       "      <td>1.710</td>\n",
       "      <td>0.665</td>\n",
       "      <td>1.13715</td>\n",
       "    </tr>\n",
       "    <tr>\n",
       "      <th>10</th>\n",
       "      <td>4.2</td>\n",
       "      <td>1.008</td>\n",
       "      <td>0.580</td>\n",
       "      <td>0.58464</td>\n",
       "    </tr>\n",
       "    <tr>\n",
       "      <th>11</th>\n",
       "      <td>4.6</td>\n",
       "      <td>0.000</td>\n",
       "      <td>0.265</td>\n",
       "      <td>0.00000</td>\n",
       "    </tr>\n",
       "  </tbody>\n",
       "</table>\n",
       "</div>"
      ],
      "text/plain": [
       "     Xm      A      V        Q\n",
       "0   0.2  0.042  0.210  0.00882\n",
       "1   0.6  0.240  0.430  0.10320\n",
       "2   1.0  0.660  0.550  0.36300\n",
       "3   1.4  0.980  0.635  0.62230\n",
       "4   1.8  1.188  0.615  0.73062\n",
       "5   2.2  1.430  0.590  0.84370\n",
       "6   2.6  1.612  0.725  1.16870\n",
       "7   3.0  1.650  0.865  1.42725\n",
       "8   3.4  1.802  0.770  1.38754\n",
       "9   3.8  1.710  0.665  1.13715\n",
       "10  4.2  1.008  0.580  0.58464\n",
       "11  4.6  0.000  0.265  0.00000"
      ]
     },
     "execution_count": 6,
     "metadata": {},
     "output_type": "execute_result"
    }
   ],
   "source": [
    "new_df"
   ]
  },
  {
   "cell_type": "code",
   "execution_count": 8,
   "metadata": {},
   "outputs": [
    {
     "name": "stdout",
     "output_type": "stream",
     "text": [
      "total streamflow  8.37692 cubic meters per second\n"
     ]
    }
   ],
   "source": [
    "print('total streamflow ', new_df['Q'].sum(), 'cubic meters per second')"
   ]
  },
  {
   "cell_type": "markdown",
   "metadata": {},
   "source": [
    "Problem 5: Plot of Depth vs Distance across Stream"
   ]
  },
  {
   "cell_type": "code",
   "execution_count": 14,
   "metadata": {},
   "outputs": [
    {
     "data": {
      "image/png": "[encoded data removed]",
      "text/plain": [
       "<Figure size 432x288 with 1 Axes>"
      ]
     },
     "metadata": {
      "needs_background": "light"
     },
     "output_type": "display_data"
    }
   ],
   "source": [
    "df.plot(x='x (m)', y='d (m)')\n",
    "plt.gca().invert_yaxis()"
   ]
  },
  {
   "cell_type": "markdown",
   "metadata": {},
   "source": [
    "Problem 6: Discharge vs Distance"
   ]
  },
  {
   "cell_type": "code",
   "execution_count": 37,
   "metadata": {},
   "outputs": [
    {
     "data": {
      "text/plain": [
       "Text(2.05, 1.5, 'local max')"
      ]
     },
     "execution_count": 37,
     "metadata": {},
     "output_type": "execute_result"
    },
    {
     "data": {
      "image/png": "[encoded data removed]",
      "text/plain": [
       "<Figure size 432x288 with 1 Axes>"
      ]
     },
     "metadata": {
      "needs_background": "light"
     },
     "output_type": "display_data"
    }
   ],
   "source": [
    "ax = new_df.plot(x='Xm', y='Q')\n",
    "ymax = max(new_df['Q'])\n",
    "xpos = list(new_df['Q']).index(ymax)\n",
    "xmax = new_df['Xm'][xpos]\n",
    "\n",
    "ax.annotate('local max', xy=(xmax, ymax), xytext=(2.05, 1.5),\n",
    "            arrowprops=dict(facecolor='black', shrink=0.9),\n",
    "            )"
   ]
  },
  {
   "cell_type": "markdown",
   "metadata": {},
   "source": [
    "Part 2: Baseflow seperation 6-11"
   ]
  },
  {
   "cell_type": "code",
   "execution_count": 62,
   "metadata": {},
   "outputs": [
    {
     "name": "stdout",
     "output_type": "stream",
     "text": [
      "Time to peak discharge is: 4 hours\n"
     ]
    }
   ],
   "source": [
    "xlsx = pd.ExcelFile(\"lab3_excel.xlsx\")\n",
    "\n",
    "column_names = xlsx.parse(sheet_name='Sheet2').columns\n",
    "isotopes = xlsx.parse(sheet_name='Sheet2', skiprows = 1)\n",
    "isotopes.columns = column_names\n",
    "\n",
    "isotopes['t'] = list(range(1,12))\n",
    "\n",
    "print('Time to peak discharge is: 4 hours')"
   ]
  },
  {
   "cell_type": "markdown",
   "metadata": {},
   "source": [
    "discharge in mm/hour, summed over the interval"
   ]
  },
  {
   "cell_type": "code",
   "execution_count": 72,
   "metadata": {},
   "outputs": [],
   "source": [
    "total_Q_mm_10hr = (isotopes['Q (m3/s)']*1000000000*60*60).sum()"
   ]
  },
  {
   "cell_type": "markdown",
   "metadata": {},
   "source": [
    "cumulative rainfall in the watershed, summed over the interval"
   ]
  },
  {
   "cell_type": "code",
   "execution_count": 73,
   "metadata": {},
   "outputs": [],
   "source": [
    "total_P_mm_10hr = 35*(15*1000*1000*1000*1000)"
   ]
  },
  {
   "cell_type": "code",
   "execution_count": 75,
   "metadata": {},
   "outputs": [
    {
     "name": "stdout",
     "output_type": "stream",
     "text": [
      "total runoff ratio 0.6205714285714286\n"
     ]
    }
   ],
   "source": [
    "print('total runoff ratio', total_Q_mm_10hr/total_P_mm_10hr)"
   ]
  },
  {
   "cell_type": "code",
   "execution_count": null,
   "metadata": {},
   "outputs": [],
   "source": []
  }
 ],
 "metadata": {
  "kernelspec": {
   "display_name": "Python [conda env:earth-analytics-python]",
   "language": "python",
   "name": "conda-env-earth-analytics-python-py"
  },
  "language_info": {
   "codemirror_mode": {
    "name": "ipython",
    "version": 3
   },
   "file_extension": ".py",
   "mimetype": "text/x-python",
   "name": "python",
   "nbconvert_exporter": "python",
   "pygments_lexer": "ipython3",
   "version": "3.6.7"
  }
 },
 "nbformat": 4,
 "nbformat_minor": 2
}
